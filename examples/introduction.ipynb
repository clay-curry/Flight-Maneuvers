{
 "cells": [
  {
   "cell_type": "code",
   "execution_count": 8,
   "metadata": {},
   "outputs": [
    {
     "name": "stdout",
     "output_type": "stream",
     "text": [
      "maneuver_dataset/ex_0790.csv\n",
      "['takeoff' 'turn' 'line' 'orbit' 'landing']\n"
     ]
    }
   ],
   "source": [
    "import sys\n",
    "sys.path.append('../')\n",
    "\n",
    "import os\n",
    "import pandas as pd\n",
    "from anne.plot import plot_scenario_topdown\n",
    "\n",
    "DATA_DIR = 'maneuver_dataset'\n",
    "\n",
    "# a list of paths to csv files\n",
    "scenarios = [os.path.join(DATA_DIR, f) for f in os.listdir(DATA_DIR)]\n",
    "\n",
    "\n",
    "# plot the first 5 scenarios\n",
    "for DATA_FILE in scenarios[:1]:\n",
    "    print(DATA_FILE)\n",
    "    scenario = pd.read_csv(DATA_FILE)\n",
    "    # print the distict values in the 'maneuver' column\n",
    "    print(scenario['maneuver'].unique()) \n",
    "    "
   ]
  }
 ],
 "metadata": {
  "kernelspec": {
   "display_name": "anne",
   "language": "python",
   "name": "python3"
  },
  "language_info": {
   "codemirror_mode": {
    "name": "ipython",
    "version": 3
   },
   "file_extension": ".py",
   "mimetype": "text/x-python",
   "name": "python",
   "nbconvert_exporter": "python",
   "pygments_lexer": "ipython3",
   "version": "3.7.16"
  },
  "orig_nbformat": 4
 },
 "nbformat": 4,
 "nbformat_minor": 2
}
