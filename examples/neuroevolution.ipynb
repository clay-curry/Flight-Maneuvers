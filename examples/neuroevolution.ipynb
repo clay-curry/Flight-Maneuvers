{
 "cells": [
  {
   "attachments": {},
   "cell_type": "markdown",
   "metadata": {},
   "source": [
    "# Neuroevolution\n",
    "\n",
    "This notebook illustrates a novel scheme for conducting a principled neural architecture search (NAS) of group equivariant and steerable networks based on the NeuroEvolution of Augmenting Topologies (NEAT). \n",
    "\n",
    "\n",
    "Whether you are new to neuroevolution, equivariant deep learning, or both, my sincerest goal in creating this notebook is to impart some importance in the following truth: evolving topologies in tandem with choosing appropriate inductive biases can enable vastly smaller models to be provably more consistent with vastly fewer training examples.\n",
    "\n",
    "Let's embark!\n",
    "\n"
   ]
  },
  {
   "attachments": {},
   "cell_type": "markdown",
   "metadata": {},
   "source": [
    "## Background\n",
    "\n",
    "Neuroevolution is a longstanding discipline overlapping with topics in algebraic coding theory, artificial life, and evolutionary algorithms.\n",
    "\n",
    "\n",
    "* ***genome*** - a [coding](https://en.wikipedia.org/wiki/Code) of a neural network is encoded, either directly or indirectly, by a (also called genotype or individual).\n",
    "* ***phenotype*** - neural network encoded by a genome\n",
    "* ***population*** - a set of genomes competing at some task \n",
    "* ***fitness*** - is a measure of how well the genome performs in a given task. The goal of a neuroevolutionary algorithm is to evolve a population of genomes in order to produce genomes with a high fitness value.\n",
    "\n",
    "The evolutionary process is divided into generations. In each generation, the population’s genomes have their fitness calculated. Genomes with a higher fitness value have a greater chance of leaving offspring for the next generation. By favoring the reproduction of fitter genomes, the algorithm gradually increases the total fitness of the population.\n",
    "If you are a beginner to neuroevolution and want to know more about this awesome area of research, here’s a couple of papers and articles to get you started:\n",
    "\n"
   ]
  },
  {
   "cell_type": "markdown",
   "metadata": {},
   "source": []
  },
  {
   "attachments": {},
   "cell_type": "markdown",
   "metadata": {},
   "source": [
    "[Evolving artificial neural networks (great review paper)](https://ieeexplore.ieee.org/document/784219);\n",
    "\n",
    "[Evolving Neural Networks through Augmenting Topologies](http://nn.cs.utexas.edu/downloads/papers/stanley.ec02.pdf) (the original paper of the NEAT algorithm);\n",
    "\n",
    "[Neuroevolution: A different kind of deep learning](https://www.oreilly.com/radar/neuroevolution-a-different-kind-of-deep-learning/) (great introductory article about NE, by the creator of NEAT);\n",
    "\n",
    "[Neuroevolution: A Primer On Evolving Artificial Neural Networks](https://www.inovex.de/blog/neuroevolution/) (great introductory article about NE);\n",
    "\n",
    "[Welcoming the Era of Deep Neuroevolution](https://eng.uber.com/deep-neuroevolution/)"
   ]
  },
  {
   "cell_type": "markdown",
   "metadata": {},
   "source": []
  }
 ],
 "metadata": {
  "language_info": {
   "name": "python"
  },
  "orig_nbformat": 4
 },
 "nbformat": 4,
 "nbformat_minor": 2
}
